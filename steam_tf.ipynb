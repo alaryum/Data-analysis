{
 "cells": [
  {
   "cell_type": "code",
   "execution_count": 1,
   "id": "59ce4a71",
   "metadata": {},
   "outputs": [
    {
     "name": "stdout",
     "output_type": "stream",
     "text": [
      "finished\n"
     ]
    }
   ],
   "source": [
    "import numpy as np\n",
    "import os\n",
    "import pandas as pd\n",
    "import tensorflow as tf\n",
    "from tensorflow.keras.layers import PReLU, Dense\n",
    "import pickle\n",
    "from tensorflow.keras.layers import Dense, Input\n",
    "from tensorflow.keras import Sequential\n",
    "from tensorflow.keras.activations import sigmoid\n",
    "print('finished')"
   ]
  },
  {
   "cell_type": "code",
   "execution_count": 12,
   "id": "8324ce66",
   "metadata": {},
   "outputs": [
    {
     "name": "stdout",
     "output_type": "stream",
     "text": [
      "(11060, 54)\n",
      "finished\n"
     ]
    }
   ],
   "source": [
    "matrix=np.zeros([1000,2])\n",
    "data=pd.read_excel(r'C:\\\\asd\\\\games.xls')\n",
    "names=pd.DataFrame(matrix)\n",
    "names_variables=names.iloc[:,:]\n",
    "tags=data.iloc[:,1:72]\n",
    "tag_col=tags.shape[1]\n",
    "tag_row=tags.shape[0]\n",
    "number = 1\n",
    "print(tags.shape)\n",
    "\n",
    "for i in range(1,tag_col):\n",
    "    for j in range(tag_row):\n",
    "        var = tags.iloc[j, i]\n",
    "        if type(var)!=int and str(var)!='nan':\n",
    "            liste=tags.values\n",
    "            if any(var in row for row in liste):\n",
    "                names_variables.iloc[number-1,0]=(number-1)\n",
    "                names_variables.iloc[number-1,1]=var\n",
    "                listee=np.array(liste)\n",
    "                listee[np.where(listee == str(var))]=number\n",
    "                tags=pd.DataFrame(listee)\n",
    "            number = number + 1\n",
    "\n",
    "\n",
    "#Write '0' to every blanks.\n",
    "liste=tags.values\n",
    "listee=np.array(liste)\n",
    "listee[pd.isna(listee)] = 0\n",
    "print('finished')\n"
   ]
  },
  {
   "cell_type": "code",
   "execution_count": 13,
   "id": "6db09018",
   "metadata": {},
   "outputs": [
    {
     "data": {
      "text/plain": [
       "(11060, 54)"
      ]
     },
     "execution_count": 13,
     "metadata": {},
     "output_type": "execute_result"
    }
   ],
   "source": [
    "tags.shape"
   ]
  },
  {
   "cell_type": "code",
   "execution_count": 14,
   "id": "f8124a43",
   "metadata": {},
   "outputs": [
    {
     "name": "stdout",
     "output_type": "stream",
     "text": [
      "finished\n"
     ]
    }
   ],
   "source": [
    "#Determine the output matrix and start to prepare input matrix.\n",
    "tags=pd.DataFrame(listee)\n",
    "only_tags=tags.iloc[:,1:tag_col]\n",
    "values_datas=tags.iloc[:,:1]\n",
    "values=values_datas.values\n",
    "only_tag_no=only_tags.values\n",
    "print('finished')"
   ]
  },
  {
   "cell_type": "code",
   "execution_count": 15,
   "id": "e6b2f796",
   "metadata": {},
   "outputs": [
    {
     "name": "stdout",
     "output_type": "stream",
     "text": [
      "  1   2   3   4   5   6   7  8  9  10 ...   44   45   46   47   48   49   50  \\\n",
      "0  1   6  10  14  24  26   0  0  0  0 ...  269  279   48   71  347  116    0   \n",
      "1  1   4   0   0   0   0   0  0  0  0 ...  102  255  372  101  220  467   57   \n",
      "2  1   2  11  16   5  18  27  4  0  0 ...   69   70  329  345  167  426  206   \n",
      "3  2  16   5  18  27   8   0  0  0  0 ...  350  109  128  161  280   48  203   \n",
      "4  1   6   0   0   0   0   0  0  0  0 ...    0    0    0    0    0    0    0   \n",
      "\n",
      "    51   52  53  \n",
      "0    0    0   0  \n",
      "1   46  133   0  \n",
      "2  373  249   0  \n",
      "3  249  401  29  \n",
      "4    0    0   0  \n",
      "\n",
      "[5 rows x 53 columns]          0\n",
      "0  94.4598\n",
      "1  78.5037\n",
      "2  87.3051\n",
      "3  81.1594\n",
      "4  37.6712\n",
      "475\n"
     ]
    }
   ],
   "source": [
    "print(only_tags.head(),values_datas.head())\n",
    "print(number)"
   ]
  },
  {
   "cell_type": "code",
   "execution_count": 16,
   "id": "28b6972b",
   "metadata": {},
   "outputs": [
    {
     "name": "stdout",
     "output_type": "stream",
     "text": [
      "finished\n"
     ]
    }
   ],
   "source": [
    "#Create input matrix.\n",
    "matrix=np.zeros([tag_row,number-1])\n",
    "for i in range(tag_row-1):\n",
    "    tag_list=only_tag_no[i]\n",
    "    matrix_list=matrix[i]\n",
    "    for one_tag in tag_list:\n",
    "        if one_tag==0:\n",
    "            pass\n",
    "        else:\n",
    "            matrix_list[one_tag-1]=1\n",
    "matrix=np.array(matrix)\n",
    "row=matrix.shape[0]\n",
    "np.save(r'C:\\\\MY ALL PROJECT\\\\steam_linear_regression\\\\names_variables_2.npy',names_variables, allow_pickle=True)\n",
    "np.save(r'C:\\\\MY ALL PROJECT\\\\steam_linear_regression\\\\matrix_2.npy',matrix, allow_pickle=True)\n",
    "np.save(r'C:\\\\MY ALL PROJECT\\\\steam_linear_regression\\\\row_2.npy',row, allow_pickle=True)\n",
    "np.save(r'C:\\\\MY ALL PROJECT\\\\steam_linear_regression\\\\number_2.npy',number, allow_pickle=True)\n",
    "np.save(r'C:\\\\MY ALL PROJECT\\\\steam_linear_regression\\\\values_2.npy',values, allow_pickle=True)\n",
    "\n",
    "print('finished')\n"
   ]
  },
  {
   "cell_type": "code",
   "execution_count": 17,
   "id": "86991f2d",
   "metadata": {},
   "outputs": [
    {
     "name": "stdout",
     "output_type": "stream",
     "text": [
      "(11060, 474) (11060, 1)\n"
     ]
    }
   ],
   "source": [
    "print(matrix.shape,values.shape)"
   ]
  },
  {
   "cell_type": "code",
   "execution_count": 88,
   "id": "5e18e38e",
   "metadata": {},
   "outputs": [
    {
     "name": "stdout",
     "output_type": "stream",
     "text": [
      "Finished\n"
     ]
    }
   ],
   "source": [
    "import numpy as np\n",
    "import matplotlib.pyplot as pltt\n",
    "import os\n",
    "import pandas as pd\n",
    "import tensorflow as tf\n",
    "from tensorflow.keras.layers import PReLU, Dense\n",
    "import pickle\n",
    "from tensorflow.keras.layers import Dense, Input\n",
    "from tensorflow.keras import Sequential\n",
    "from tensorflow.keras.activations import sigmoid\n",
    "from tensorflow.keras import activations\n",
    "\n",
    "names_variables=np.load(r'C:\\\\MY ALL PROJECT\\\\steam_linear_regression\\\\names_variables.npy',allow_pickle=True)\n",
    "checkpoint_path=(r'C:\\\\MY ALL PROJECT\\\\steam_linear_regression\\\\neural_network.ckpt')\n",
    "matrix=np.load(r'C:\\\\MY ALL PROJECT\\\\steam_linear_regression\\\\matrix.npy')\n",
    "number=np.load(r'C:\\\\MY ALL PROJECT\\\\steam_linear_regression\\\\number.npy')\n",
    "values=np.load(r'C:\\\\MY ALL PROJECT\\\\steam_linear_regression\\\\values.npy',allow_pickle=True)\n",
    "row=np.load(r'C:\\\\MY ALL PROJECT\\\\steam_linear_regression\\\\row.npy', allow_pickle=True)\n",
    "\n",
    "\n",
    "names_variables_2=np.load(r'C:\\\\MY ALL PROJECT\\\\steam_linear_regression\\\\names_variables_2.npy',allow_pickle=True)\n",
    "checkpoint_path_2=(r'C:\\\\MY ALL PROJECT\\\\steam_linear_regression\\\\neural_network.ckpt')\n",
    "matrix_2=np.load(r'C:\\\\MY ALL PROJECT\\\\steam_linear_regression\\\\matrix_2.npy')\n",
    "number_2=np.load(r'C:\\\\MY ALL PROJECT\\\\steam_linear_regression\\\\number_2.npy')\n",
    "values_2=np.load(r'C:\\\\MY ALL PROJECT\\\\steam_linear_regression\\\\values_2.npy',allow_pickle=True)\n",
    "row_2=np.load(r'C:\\\\MY ALL PROJECT\\\\steam_linear_regression\\\\row_2.npy', allow_pickle=True)\n",
    "\n",
    "\n",
    "\n",
    "cp_callback = tf.keras.callbacks.ModelCheckpoint(checkpoint_path,verbose=1,save_weights_only=True,period=100)\n",
    "chechpoint_dir= os.path.dirname(checkpoint_path)\n",
    "new_matrix = np.zeros([row,1])\n",
    "train_matrix_2=np.asarray(matrix_2[:6000,:]).astype('float32')\n",
    "train_values_2=np.asarray(values_2[:6000,:]).astype('float32')\n",
    "test_matrix_2=np.asarray(matrix_2[10060:,:]).astype('float32')\n",
    "test_values_2=np.asarray(values_2[10060:,:]).astype('float32')\n",
    "train_matrix=np.asarray(matrix[:3600,:]).astype('float32')\n",
    "train_values=np.asarray(values[:3600,:]).astype('float32')\n",
    "test_matrix=np.asarray(matrix[3600:,:]).astype('float32')\n",
    "test_values=np.asarray(values[3600:,:]).astype('float32')\n",
    "row = train_matrix.shape[0]\n",
    "coloumn = train_matrix.shape[1]\n",
    "neural_network_data= tf.train.latest_checkpoint(chechpoint_dir)\n",
    "names_variables=pd.DataFrame(names_variables)\n",
    "\n",
    "print('Finished')"
   ]
  },
  {
   "cell_type": "code",
   "execution_count": 89,
   "id": "b8ba931d",
   "metadata": {},
   "outputs": [
    {
     "name": "stdout",
     "output_type": "stream",
     "text": [
      "[[0. 0. 0. ... 0. 0. 0.]\n",
      " [1. 0. 0. ... 0. 0. 0.]\n",
      " [0. 0. 0. ... 0. 0. 0.]\n",
      " ...\n",
      " [1. 0. 0. ... 0. 0. 0.]\n",
      " [0. 0. 0. ... 0. 0. 0.]\n",
      " [0. 0. 0. ... 0. 0. 0.]]\n"
     ]
    }
   ],
   "source": [
    "print(test_matrix)"
   ]
  },
  {
   "cell_type": "code",
   "execution_count": 90,
   "id": "46eddd70",
   "metadata": {},
   "outputs": [
    {
     "name": "stdout",
     "output_type": "stream",
     "text": [
      "(313, 427) (313, 1)\n",
      "(3600, 427) (3600, 1)\n"
     ]
    }
   ],
   "source": [
    "print(test_matrix.shape,test_values.shape)\n",
    "print(train_matrix.shape,train_values.shape)"
   ]
  },
  {
   "cell_type": "code",
   "execution_count": 24,
   "id": "75fd5c8e",
   "metadata": {},
   "outputs": [
    {
     "name": "stdout",
     "output_type": "stream",
     "text": [
      "Num GPUs Available:  /device:GPU:0\n"
     ]
    }
   ],
   "source": [
    "print(\"Num GPUs Available: \", tf.test.gpu_device_name())"
   ]
  },
  {
   "cell_type": "code",
   "execution_count": 376,
   "id": "b7ad172d",
   "metadata": {},
   "outputs": [],
   "source": [
    "model = Sequential(\n",
    "    [\n",
    "        \n",
    "        tf.keras.layers.Dense(coloumn,input_dim=coloumn,  activation ='relu',kernel_regularizer=tf.keras.regularizers.l2(0)),\n",
    "        tf.keras.layers.Dense(coloumn*50,activation = tf.math.exp),\n",
    "        tf.keras.layers.Dense(1,activation = 'linear'),\n",
    "\n",
    "        \n",
    "    ]\n",
    ")\n",
    "\n"
   ]
  },
  {
   "cell_type": "code",
   "execution_count": null,
   "id": "0685555a",
   "metadata": {
    "scrolled": true
   },
   "outputs": [
    {
     "name": "stdout",
     "output_type": "stream",
     "text": [
      "Epoch 1/1000\n",
      "3600/3600 [==============================] - 4s 1ms/step - loss: 259.9138\n",
      "Epoch 2/1000\n",
      "3600/3600 [==============================] - 1s 347us/step - loss: 83.8262\n",
      "Epoch 3/1000\n",
      "3600/3600 [==============================] - 1s 349us/step - loss: 67.6321\n",
      "Epoch 4/1000\n",
      "3600/3600 [==============================] - 1s 349us/step - loss: 50.8918\n",
      "Epoch 5/1000\n",
      "3600/3600 [==============================] - 1s 348us/step - loss: 35.3223\n",
      "Epoch 6/1000\n",
      "3600/3600 [==============================] - 1s 348us/step - loss: 27.2383\n",
      "Epoch 7/1000\n",
      "3600/3600 [==============================] - 1s 348us/step - loss: 20.7748\n",
      "Epoch 8/1000\n",
      "3600/3600 [==============================] - 1s 349us/step - loss: 16.1338\n",
      "Epoch 9/1000\n",
      "3600/3600 [==============================] - 1s 348us/step - loss: 12.4780\n",
      "Epoch 10/1000\n",
      "3600/3600 [==============================] - 1s 350us/step - loss: 11.2618\n",
      "Epoch 11/1000\n",
      "3600/3600 [==============================] - 1s 351us/step - loss: 10.6251\n",
      "Epoch 12/1000\n",
      "3600/3600 [==============================] - 1s 348us/step - loss: 9.8969\n",
      "Epoch 13/1000\n",
      "3600/3600 [==============================] - 1s 350us/step - loss: 8.5763\n",
      "Epoch 14/1000\n",
      "3600/3600 [==============================] - 1s 351us/step - loss: 7.8618\n",
      "Epoch 15/1000\n",
      "3600/3600 [==============================] - 1s 348us/step - loss: 8.3886\n",
      "Epoch 16/1000\n",
      "3600/3600 [==============================] - 1s 349us/step - loss: 8.9752\n",
      "Epoch 17/1000\n",
      "2272/3600 [=================>............] - ETA: 0s - loss: 7.9708"
     ]
    }
   ],
   "source": [
    "\n",
    "model.compile(optimizer='adam',loss=\"mse\")\n",
    "x=[]\n",
    "y=[]\n",
    "\n",
    "model.fit(train_matrix,train_values,epochs=1000)\n",
    "a=model.evaluate(test_matrix,test_values)\n"
   ]
  },
  {
   "cell_type": "code",
   "execution_count": 373,
   "id": "68ff6341",
   "metadata": {},
   "outputs": [
    {
     "name": "stdout",
     "output_type": "stream",
     "text": [
      "313/313 [==============================] - 1s 4ms/step\n",
      "125.97385301681372\n"
     ]
    }
   ],
   "source": [
    "a=model.evaluate(test_matrix,test_values)\n",
    "print(a)\n"
   ]
  },
  {
   "cell_type": "code",
   "execution_count": 59,
   "id": "dde56034",
   "metadata": {},
   "outputs": [
    {
     "name": "stdout",
     "output_type": "stream",
     "text": [
      "[0, 1000, 2000, 3000]\n"
     ]
    }
   ],
   "source": [
    "for i in range(len(x)):\n",
    "    x[i]=x[i]*1000\n",
    "print(x)"
   ]
  },
  {
   "cell_type": "code",
   "execution_count": 352,
   "id": "8153e02a",
   "metadata": {},
   "outputs": [
    {
     "data": {
      "image/png": "[encoded data removed]",
      "text/plain": [
       "<Figure size 1152x576 with 1 Axes>"
      ]
     },
     "metadata": {
      "needs_background": "light"
     },
     "output_type": "display_data"
    }
   ],
   "source": [
    "pltt.figure(figsize=(16,8))\n",
    "pltt.plot(x[:],y[:])\n",
    "pltt.xlabel(\"x values\", size=12)\n",
    "pltt.ylabel(\"y values\", size=12)\n",
    "pltt.show()\n",
    "\n"
   ]
  },
  {
   "cell_type": "code",
   "execution_count": 250,
   "id": "08b5066e",
   "metadata": {},
   "outputs": [
    {
     "name": "stdout",
     "output_type": "stream",
     "text": [
      "92.40403864558893\n"
     ]
    }
   ],
   "source": [
    "print(min(y))"
   ]
  },
  {
   "cell_type": "code",
   "execution_count": null,
   "id": "7e39cae2",
   "metadata": {},
   "outputs": [],
   "source": [
    "model.summary()"
   ]
  },
  {
   "cell_type": "code",
   "execution_count": 86,
   "id": "6e61f008",
   "metadata": {},
   "outputs": [],
   "source": [
    "y=[286, 273, 229, 223, 246, 221, 228, 228, 225, 220, 225, 225, 226, 231]\n"
   ]
  },
  {
   "cell_type": "code",
   "execution_count": 374,
   "id": "8a5b6799",
   "metadata": {},
   "outputs": [
    {
     "name": "stdout",
     "output_type": "stream",
     "text": [
      "kesin bilinen oranı : % 15.97444089456869\n",
      "az çok bilinen oranı : % 50.47923322683706\n",
      "hiç bilinmeyen oranı : % 33.546325878594246\n"
     ]
    }
   ],
   "source": [
    "perfect=0\n",
    "meh=0\n",
    "bok=0\n",
    "for i in range(test_matrix.shape[0]):\n",
    "    a=round(model.predict(test_matrix[i].reshape(1,427))[0,0])\n",
    "    b=round(test_values[i][0])\n",
    "    if abs(b-a)<=2:\n",
    "        perfect= perfect + 1\n",
    "    elif abs(b-a)<=10:\n",
    "        meh= meh + 1\n",
    "    else:\n",
    "        bok= bok + 1\n",
    "    \n",
    "print('kesin bilinen oranı : %', perfect*100/(perfect+meh+bok))\n",
    "print('az çok bilinen oranı : %', meh*100/(perfect+meh+bok))\n",
    "print('hiç bilinmeyen oranı : %', bok*100/(perfect+meh+bok))"
   ]
  },
  {
   "cell_type": "code",
   "execution_count": 353,
   "id": "9af3b567",
   "metadata": {},
   "outputs": [
    {
     "name": "stdout",
     "output_type": "stream",
     "text": [
      "kesin bilinen oranı : % 18.210862619808307\n",
      "az çok bilinen oranı : % 46.96485623003195\n",
      "hiç bilinmeyen oranı : % 34.82428115015974\n"
     ]
    }
   ],
   "source": [
    "perfect=0\n",
    "meh=0\n",
    "bok=0\n",
    "for i in range(test_matrix.shape[0]):\n",
    "    a=model.predict(test_matrix[i].reshape(1,427))[0,0]\n",
    "    b=test_values[i][0]\n",
    "    if abs(b-a)<=2:\n",
    "        perfect= perfect + 1\n",
    "    elif abs(b-a)<=10:\n",
    "        meh= meh + 1\n",
    "    else:\n",
    "        bok= bok + 1\n",
    "    \n",
    "print('kesin bilinen oranı : %', perfect*100/(perfect+meh+bok))\n",
    "print('az çok bilinen oranı : %', meh*100/(perfect+meh+bok))\n",
    "print('hiç bilinmeyen oranı : %', bok*100/(perfect+meh+bok))"
   ]
  },
  {
   "cell_type": "code",
   "execution_count": 67,
   "id": "dd22b523",
   "metadata": {},
   "outputs": [
    {
     "name": "stdout",
     "output_type": "stream",
     "text": [
      "11253.0\n"
     ]
    }
   ],
   "source": [
    "final=0\n",
    "for i in range(test_matrix.shape[0]):\n",
    "    a=round(model.predict(test_matrix[i].reshape(1,474))[0,0])\n",
    "    b=round(test_values[i][0])\n",
    "    final=final+abs(a-b)\n",
    "print(final)"
   ]
  },
  {
   "cell_type": "code",
   "execution_count": 28,
   "id": "2d47f0a7",
   "metadata": {},
   "outputs": [
    {
     "name": "stdout",
     "output_type": "stream",
     "text": [
      "6709.0\n"
     ]
    }
   ],
   "source": [
    "final=0\n",
    "for i in range(test_matrix.shape[0]):\n",
    "    a=round(model.predict(test_matrix[i].reshape(1,474))[0,0])\n",
    "    b=round(test_values[i][0])\n",
    "    final=final+abs(a-b)\n",
    "print(final)"
   ]
  },
  {
   "cell_type": "code",
   "execution_count": null,
   "id": "9b62c45d",
   "metadata": {},
   "outputs": [],
   "source": []
  },
  {
   "cell_type": "code",
   "execution_count": null,
   "id": "605b9a8a",
   "metadata": {},
   "outputs": [],
   "source": []
  },
  {
   "cell_type": "code",
   "execution_count": null,
   "id": "7f0ee4fe",
   "metadata": {},
   "outputs": [],
   "source": []
  },
  {
   "cell_type": "code",
   "execution_count": null,
   "id": "f127cbac",
   "metadata": {},
   "outputs": [],
   "source": []
  },
  {
   "cell_type": "code",
   "execution_count": null,
   "id": "3f65df58",
   "metadata": {},
   "outputs": [],
   "source": []
  },
  {
   "cell_type": "code",
   "execution_count": null,
   "id": "4791718f",
   "metadata": {},
   "outputs": [],
   "source": []
  },
  {
   "cell_type": "code",
   "execution_count": null,
   "id": "306f1a5c",
   "metadata": {},
   "outputs": [],
   "source": []
  },
  {
   "cell_type": "code",
   "execution_count": null,
   "id": "7880f36e",
   "metadata": {},
   "outputs": [],
   "source": []
  },
  {
   "cell_type": "code",
   "execution_count": null,
   "id": "0ab3c314",
   "metadata": {},
   "outputs": [],
   "source": []
  },
  {
   "cell_type": "code",
   "execution_count": null,
   "id": "addc6837",
   "metadata": {},
   "outputs": [],
   "source": []
  },
  {
   "cell_type": "code",
   "execution_count": null,
   "id": "1192f118",
   "metadata": {},
   "outputs": [],
   "source": []
  },
  {
   "cell_type": "code",
   "execution_count": null,
   "id": "d16baf5a",
   "metadata": {},
   "outputs": [],
   "source": []
  },
  {
   "cell_type": "code",
   "execution_count": null,
   "id": "9701d5a0",
   "metadata": {},
   "outputs": [],
   "source": []
  },
  {
   "cell_type": "code",
   "execution_count": null,
   "id": "4f32cc1e",
   "metadata": {},
   "outputs": [],
   "source": []
  },
  {
   "cell_type": "code",
   "execution_count": null,
   "id": "0ee75ae9",
   "metadata": {},
   "outputs": [],
   "source": []
  },
  {
   "cell_type": "code",
   "execution_count": null,
   "id": "505dd495",
   "metadata": {},
   "outputs": [],
   "source": []
  },
  {
   "cell_type": "code",
   "execution_count": 9,
   "id": "e1b5d80b",
   "metadata": {},
   "outputs": [],
   "source": [
    "def detector(names_variables):\n",
    "    a=input()\n",
    "    input_list=[]\n",
    "    input_list.append(a)\n",
    "    number_list=[]\n",
    "    while a!='end':\n",
    "        a=input()\n",
    "        input_list.append(a)\n",
    "    input_list.pop()\n",
    "    for i in input_list:\n",
    "        for j in range(names_variables.shape[0]):\n",
    "            if i == names_variables.iloc[j, 1]:\n",
    "                number_list.append(names_variables.iloc[j, 0])\n",
    "    return number_list       \n"
   ]
  },
  {
   "cell_type": "code",
   "execution_count": 115,
   "id": "35eeb438",
   "metadata": {},
   "outputs": [
    {
     "name": "stdout",
     "output_type": "stream",
     "text": [
      "Violent\n",
      "Visual Novel\n",
      "Comedy\n",
      "Immersive Sim\n",
      "Drama\n",
      "Simulation\n",
      "Choices Matter\n",
      "Cinematic\n",
      "Interactive Fiction\n",
      "Action-Adventure\n",
      "Choose Your Own Adventure\n",
      "Adventure\n",
      "FMV\n",
      "Multiple Endings\n",
      "Realistic\n",
      "Female Protagonist\n",
      "Emotional\n",
      "Singleplayer\n",
      "Atmospheric\n",
      "Gore\n",
      "end\n"
     ]
    }
   ],
   "source": [
    "number_list=detector(names_variables)\n",
    "Violent\n",
    "Visual Novel\n",
    "Comedy\n",
    "Immersive Sim\n",
    "Drama\n",
    "Simulation\n",
    "Choices Matter\n",
    "Cinematic\n",
    "Interactive Fiction\n",
    "Action-Adventure\n",
    "Choose Your Own Adventure\n",
    "Adventure\n",
    "FMV\n",
    "Multiple Endings\n",
    "Realistic\n",
    "Female Protagonist\n",
    "Emotional\n",
    "Singleplayer\n",
    "Atmospheric\n",
    "Gor"
   ]
  },
  {
   "cell_type": "code",
   "execution_count": 116,
   "id": "221e0acf",
   "metadata": {},
   "outputs": [
    {
     "name": "stdout",
     "output_type": "stream",
     "text": [
      "0.0\n"
     ]
    }
   ],
   "source": [
    "def result_printer(x,no):\n",
    "    matrix=np.zeros((no-1))\n",
    "    print(matrix[5])\n",
    "    for i in x:\n",
    "        matrix[int(i)]=1\n",
    "    return matrix\n",
    "test_matrix=result_printer(number_list,number)"
   ]
  },
  {
   "cell_type": "code",
   "execution_count": 48,
   "id": "360ce7db",
   "metadata": {},
   "outputs": [],
   "source": [
    "test_matrix=np.zeros([1,427])\n",
    "for i in range(427):\n",
    "    test_matrix[0,i]=1"
   ]
  },
  {
   "cell_type": "code",
   "execution_count": 117,
   "id": "4491bf9a",
   "metadata": {
    "scrolled": true
   },
   "outputs": [
    {
     "name": "stdout",
     "output_type": "stream",
     "text": [
      "[0. 0. 0. 0. 0. 0. 0. 0. 0. 0. 0. 0. 0. 0. 0. 0. 0. 0. 1. 0. 0. 0. 0. 1.\n",
      " 0. 0. 0. 0. 0. 0. 0. 0. 0. 0. 0. 0. 0. 0. 0. 0. 0. 0. 0. 0. 0. 0. 0. 0.\n",
      " 0. 0. 0. 0. 0. 0. 0. 0. 0. 0. 0. 0. 0. 1. 0. 0. 0. 0. 0. 0. 1. 0. 0. 1.\n",
      " 0. 0. 1. 0. 1. 0. 0. 0. 0. 0. 0. 0. 0. 0. 0. 0. 0. 1. 0. 0. 0. 0. 0. 0.\n",
      " 0. 0. 1. 0. 0. 0. 0. 0. 0. 0. 1. 0. 0. 0. 0. 0. 0. 0. 0. 0. 0. 0. 0. 0.\n",
      " 0. 0. 0. 0. 0. 0. 0. 0. 0. 0. 0. 0. 0. 0. 0. 0. 0. 0. 0. 0. 1. 0. 0. 0.\n",
      " 0. 0. 0. 0. 0. 0. 0. 0. 0. 0. 0. 0. 0. 0. 0. 0. 0. 0. 0. 0. 0. 1. 1. 0.\n",
      " 0. 1. 0. 0. 0. 0. 0. 0. 0. 0. 0. 0. 0. 0. 0. 0. 0. 0. 0. 0. 0. 0. 0. 0.\n",
      " 0. 0. 0. 0. 0. 0. 0. 0. 0. 0. 0. 0. 0. 0. 0. 0. 0. 0. 0. 0. 0. 0. 0. 0.\n",
      " 0. 0. 0. 0. 0. 0. 0. 0. 0. 0. 0. 0. 0. 0. 0. 0. 0. 0. 0. 0. 0. 0. 0. 0.\n",
      " 0. 0. 0. 0. 1. 0. 0. 0. 0. 0. 0. 0. 0. 0. 0. 0. 0. 0. 0. 0. 0. 0. 0. 0.\n",
      " 0. 0. 0. 0. 0. 0. 0. 0. 0. 0. 0. 0. 0. 0. 0. 0. 0. 0. 1. 0. 0. 0. 0. 0.\n",
      " 0. 0. 0. 0. 0. 0. 0. 0. 0. 0. 0. 0. 0. 0. 0. 1. 0. 0. 0. 0. 0. 0. 0. 0.\n",
      " 0. 0. 0. 0. 0. 0. 0. 0. 0. 0. 0. 0. 0. 0. 0. 0. 0. 0. 0. 0. 0. 0. 0. 0.\n",
      " 0. 0. 0. 0. 0. 0. 0. 0. 0. 0. 0. 0. 0. 1. 0. 0. 0. 1. 0. 0. 0. 0. 0. 0.\n",
      " 0. 0. 0. 0. 0. 0. 0. 0. 0. 0. 0. 0. 0. 0. 0. 0. 0. 0. 0. 0. 0. 0. 0. 0.\n",
      " 0. 0. 0. 0. 0. 0. 0. 0. 0. 0. 0. 0. 0. 1. 0. 0. 0. 0. 0. 0. 0. 0. 0. 0.\n",
      " 0. 0. 0. 0. 0. 0. 0. 0. 0. 0. 0. 0. 0. 0. 0. 0. 0. 0. 0.]\n"
     ]
    }
   ],
   "source": [
    "np.save(r'C:\\\\MY ALL PROJECT\\\\steam_linear_regression\\\\test16_matrix.npy',test_matrix, allow_pickle=True)\n",
    "print(test_matrix)"
   ]
  },
  {
   "cell_type": "code",
   "execution_count": 256,
   "id": "11017328",
   "metadata": {},
   "outputs": [],
   "source": [
    "Eldenring_96=np.load(r'C:\\\\MY ALL PROJECT\\\\steam_linear_regression\\\\test_matrix.npy', allow_pickle=True)\n",
    "Sons_of_The_Forest_=np.load(r'C:\\\\MY ALL PROJECT\\\\steam_linear_regression\\\\test1_matrix.npy', allow_pickle=True)\n",
    "Just_Cause_3=np.load(r'C:\\\\MY ALL PROJECT\\\\steam_linear_regression\\\\test2_matrix.npy', allow_pickle=True)\n",
    "Hades_93=np.load(r'C:\\\\MY ALL PROJECT\\\\steam_linear_regression\\\\test3_matrix.npy', allow_pickle=True)\n",
    "Star_field_=np.load(r'C:\\\\MY ALL PROJECT\\\\steam_linear_regression\\\\test4_matrix.npy', allow_pickle=True)\n",
    "Red_Fall_53=np.load(r'C:\\\\MY ALL PROJECT\\\\steam_linear_regression\\\\test5_matrix.npy', allow_pickle=True)\n",
    "Story_Rich=np.load(r'C:\\\\MY ALL PROJECT\\\\steam_linear_regression\\\\test6_matrix.npy', allow_pickle=True)\n",
    "Anomaly_Agent_=np.load(r'C:\\\\MY ALL PROJECT\\\\steam_linear_regression\\\\test7_matrix.npy', allow_pickle=True)\n",
    "test=np.load(r'C:\\\\MY ALL PROJECT\\\\steam_linear_regression\\\\test8_matrix.npy', allow_pickle=True)\n",
    "Gollum_39=np.load(r'C:\\\\MY ALL PROJECT\\\\steam_linear_regression\\\\test9_matrix.npy', allow_pickle=True)\n",
    "Fuga_Melodies_of_Steel_2__84=np.load(r'C:\\\\MY ALL PROJECT\\\\steam_linear_regression\\\\test10_matrix.npy', allow_pickle=True)\n",
    "Teslagrad_2__71=np.load(r'C:\\\\MY ALL PROJECT\\\\steam_linear_regression\\\\test11_matrix.npy', allow_pickle=True)\n",
    "The_Last_Case_of_Benedict_Fox__58=np.load(r'C:\\\\MY ALL PROJECT\\\\steam_linear_regression\\\\test12_matrix.npy', allow_pickle=True)\n",
    "God_of_War=np.load(r'C:\\\\MY ALL PROJECT\\\\steam_linear_regression\\\\test13_matrix.npy', allow_pickle=True)\n",
    "Cyberpunk_2077=np.load(r'C:\\\\MY ALL PROJECT\\\\steam_linear_regression\\\\test14_matrix.npy', allow_pickle=True)\n",
    "Greyhill_Incident=np.load(r'C:\\\\MY ALL PROJECT\\\\steam_linear_regression\\\\test15_matrix.npy', allow_pickle=True)"
   ]
  },
  {
   "cell_type": "code",
   "execution_count": 375,
   "id": "cdd7c1ca",
   "metadata": {},
   "outputs": [
    {
     "name": "stdout",
     "output_type": "stream",
     "text": [
      "Elden Ring (96) : 82.0\n",
      "Hades (93) : 85.0\n",
      "Cyberpunk 2077 (86) : 75.0\n",
      "Just Cause 3  (74) : 72.0\n",
      "Greyhill Incident (38) : 69.0\n",
      "Red Fall (53) : 56.0\n",
      "but actually has released with scores of 61 and 63 in PC and Xbox Series X-S. Redfall has lost points because of unpredictible bad optimizations.\n",
      "Fuga: Melodies of Steel 2 (84) : 76.0\n",
      "Teslagrad 2 (71) : 70.0\n",
      "God of War(94) : 69.0\n",
      "Gollum (39) : 74.0 , actually there is nothing to say...\n",
      "Sons of The Forest (?) : 71.0\n",
      "Star Field (?) : 77.0\n",
      "Anomaly Agent (?) : 59.0      The Cherryson Game\n"
     ]
    }
   ],
   "source": [
    "print('Elden Ring (96) : {}'.format(round(model.predict(Eldenring_96.reshape(1,427))[0,0])))\n",
    "print('Hades (93) : {}'.format(round(model.predict(Hades_93.reshape(1,427))[0,0])))\n",
    "print('Cyberpunk 2077 (86) : {}'.format(round(model.predict(Cyberpunk_2077.reshape(1,427))[0,0])))\n",
    "print('Just Cause 3  (74) : {}'.format(round(model.predict(Just_Cause_3.reshape(1,427))[0,0])))\n",
    "print('Greyhill Incident (38) : {}'.format(round(model.predict(Greyhill_Incident.reshape(1,427))[0,0])))\n",
    "print('Red Fall (53) : {}'.format(round(model.predict(Red_Fall_53.reshape(1,427))[0,0])))\n",
    "print('but actually has released with scores of 61 and 63 in PC and Xbox Series X-S. Redfall has lost points because of unpredictible bad optimizations.')\n",
    "print('Fuga: Melodies of Steel 2 (84) : {}'.format(round(model.predict(Fuga_Melodies_of_Steel_2__84.reshape(1,427))[0,0])))\n",
    "print('Teslagrad 2 (71) : {}'.format(round(model.predict(Teslagrad_2__71.reshape(1,427))[0,0])))\n",
    "print('God of War(94) : {}'.format(round(model.predict(God_of_War.reshape(1,427))[0,0])))\n",
    "print('Gollum (39) : {}'.format(round(model.predict(Gollum_39.reshape(1,427))[0,0])), ', actually there is nothing to say...')\n",
    "print('Sons of The Forest (?) : {}'.format(round(model.predict(Sons_of_The_Forest_.reshape(1,427))[0,0])))\n",
    "print('Star Field (?) : {}'.format(round(model.predict(Star_field_.reshape(1,427))[0,0])))\n",
    "print('Anomaly Agent (?) : {}'.format(round(model.predict(Anomaly_Agent_.reshape(1,427))[0,0])),'     The Cherryson Game')\n",
    "\n",
    "\n"
   ]
  },
  {
   "cell_type": "code",
   "execution_count": 20,
   "id": "569121d6",
   "metadata": {},
   "outputs": [
    {
     "ename": "SyntaxError",
     "evalue": "EOL while scanning string literal (<ipython-input-20-786bc6741616>, line 1)",
     "output_type": "error",
     "traceback": [
      "\u001b[1;36m  File \u001b[1;32m\"<ipython-input-20-786bc6741616>\"\u001b[1;36m, line \u001b[1;32m1\u001b[0m\n\u001b[1;33m    print(f\"{train_matrix}anaconda')\u001b[0m\n\u001b[1;37m                                    ^\u001b[0m\n\u001b[1;31mSyntaxError\u001b[0m\u001b[1;31m:\u001b[0m EOL while scanning string literal\n"
     ]
    }
   ],
   "source": [
    "print(\"{train_matrix}anaconda'format)"
   ]
  },
  {
   "cell_type": "code",
   "execution_count": 47,
   "id": "443d984a",
   "metadata": {},
   "outputs": [
    {
     "ename": "ValueError",
     "evalue": "Failed to convert a NumPy array to a Tensor (Unsupported object type int).",
     "output_type": "error",
     "traceback": [
      "\u001b[1;31m---------------------------------------------------------------------------\u001b[0m",
      "\u001b[1;31mValueError\u001b[0m                                Traceback (most recent call last)",
      "Cell \u001b[1;32mIn[47], line 1\u001b[0m\n\u001b[1;32m----> 1\u001b[0m train_acc\u001b[38;5;241m=\u001b[39m \u001b[43mmodel\u001b[49m\u001b[38;5;241;43m.\u001b[39;49m\u001b[43mevaluate\u001b[49m\u001b[43m(\u001b[49m\u001b[43mmatrix\u001b[49m\u001b[43m,\u001b[49m\u001b[43mvalues\u001b[49m\u001b[43m)\u001b[49m\n\u001b[0;32m      2\u001b[0m \u001b[38;5;28mprint\u001b[39m(\u001b[38;5;124mf\u001b[39m\u001b[38;5;124m'\u001b[39m\u001b[38;5;124m%\u001b[39m\u001b[38;5;132;01m{\u001b[39;00mtrain_acc\u001b[38;5;241m*\u001b[39m\u001b[38;5;241m100\u001b[39m\u001b[38;5;132;01m}\u001b[39;00m\u001b[38;5;124m'\u001b[39m)\n",
      "File \u001b[1;32m~\\AppData\\Local\\Packages\\PythonSoftwareFoundation.Python.3.10_qbz5n2kfra8p0\\LocalCache\\local-packages\\Python310\\site-packages\\keras\\utils\\traceback_utils.py:70\u001b[0m, in \u001b[0;36mfilter_traceback.<locals>.error_handler\u001b[1;34m(*args, **kwargs)\u001b[0m\n\u001b[0;32m     67\u001b[0m     filtered_tb \u001b[38;5;241m=\u001b[39m _process_traceback_frames(e\u001b[38;5;241m.\u001b[39m__traceback__)\n\u001b[0;32m     68\u001b[0m     \u001b[38;5;66;03m# To get the full stack trace, call:\u001b[39;00m\n\u001b[0;32m     69\u001b[0m     \u001b[38;5;66;03m# `tf.debugging.disable_traceback_filtering()`\u001b[39;00m\n\u001b[1;32m---> 70\u001b[0m     \u001b[38;5;28;01mraise\u001b[39;00m e\u001b[38;5;241m.\u001b[39mwith_traceback(filtered_tb) \u001b[38;5;28;01mfrom\u001b[39;00m \u001b[38;5;28;01mNone\u001b[39;00m\n\u001b[0;32m     71\u001b[0m \u001b[38;5;28;01mfinally\u001b[39;00m:\n\u001b[0;32m     72\u001b[0m     \u001b[38;5;28;01mdel\u001b[39;00m filtered_tb\n",
      "File \u001b[1;32m~\\AppData\\Local\\Packages\\PythonSoftwareFoundation.Python.3.10_qbz5n2kfra8p0\\LocalCache\\local-packages\\Python310\\site-packages\\tensorflow\\python\\framework\\constant_op.py:103\u001b[0m, in \u001b[0;36mconvert_to_eager_tensor\u001b[1;34m(value, ctx, dtype)\u001b[0m\n\u001b[0;32m    101\u001b[0m     dtype \u001b[38;5;241m=\u001b[39m dtypes\u001b[38;5;241m.\u001b[39mas_dtype(dtype)\u001b[38;5;241m.\u001b[39mas_datatype_enum\n\u001b[0;32m    102\u001b[0m ctx\u001b[38;5;241m.\u001b[39mensure_initialized()\n\u001b[1;32m--> 103\u001b[0m \u001b[38;5;28;01mreturn\u001b[39;00m \u001b[43mops\u001b[49m\u001b[38;5;241;43m.\u001b[39;49m\u001b[43mEagerTensor\u001b[49m\u001b[43m(\u001b[49m\u001b[43mvalue\u001b[49m\u001b[43m,\u001b[49m\u001b[43m \u001b[49m\u001b[43mctx\u001b[49m\u001b[38;5;241;43m.\u001b[39;49m\u001b[43mdevice_name\u001b[49m\u001b[43m,\u001b[49m\u001b[43m \u001b[49m\u001b[43mdtype\u001b[49m\u001b[43m)\u001b[49m\n",
      "\u001b[1;31mValueError\u001b[0m: Failed to convert a NumPy array to a Tensor (Unsupported object type int)."
     ]
    }
   ],
   "source": [
    "train_acc= model.evaluate(matrix,values)\n",
    "print(f'%{train_acc*100}')"
   ]
  },
  {
   "cell_type": "code",
   "execution_count": null,
   "id": "34205dbd",
   "metadata": {},
   "outputs": [],
   "source": []
  }
 ],
 "metadata": {
  "kernelspec": {
   "display_name": "Python 3",
   "language": "python",
   "name": "python3"
  },
  "language_info": {
   "codemirror_mode": {
    "name": "ipython",
    "version": 3
   },
   "file_extension": ".py",
   "mimetype": "text/x-python",
   "name": "python",
   "nbconvert_exporter": "python",
   "pygments_lexer": "ipython3",
   "version": "3.5.6"
  }
 },
 "nbformat": 4,
 "nbformat_minor": 5
}
